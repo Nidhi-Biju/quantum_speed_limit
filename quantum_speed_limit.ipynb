{
  "cells": [
    {
      "cell_type": "code",
      "execution_count": null,
      "id": "f146bcba",
      "metadata": {
        "id": "f146bcba"
      },
      "outputs": [],
      "source": [
        "import pennylane as qml\n",
        "import numpy as np\n",
        "import scipy.linalg as la"
      ]
    },
    {
      "cell_type": "code",
      "execution_count": null,
      "id": "afda8360",
      "metadata": {
        "id": "afda8360"
      },
      "outputs": [],
      "source": [
        "# hbar = w = 1\n",
        "hbar = 1\n",
        "w = 1\n",
        "h =  np.array([[0,0],[0,1]])\n",
        "I = np.eye(2)\n",
        "H = np.kron(h,I) +  np.kron(I,h)"
      ]
    },
    {
      "cell_type": "code",
      "execution_count": null,
      "id": "3612975b",
      "metadata": {
        "id": "3612975b",
        "outputId": "0e446c32-3bde-48ca-ea38-c0b3b8dc9014"
      },
      "outputs": [
        {
          "name": "stdout",
          "output_type": "stream",
          "text": [
            "The Hamiltonian is - \n",
            "[[0. 0. 0. 0.]\n",
            " [0. 1. 0. 0.]\n",
            " [0. 0. 1. 0.]\n",
            " [0. 0. 0. 2.]]\n",
            "The eigenvalues of the Hamiltonian are - \n",
            "[0.+0.j 1.+0.j 1.+0.j 2.+0.j]\n",
            "The eigenvectors of the Hamiltonian are - \n",
            "[[1. 0. 0. 0.]\n",
            " [0. 1. 0. 0.]\n",
            " [0. 0. 1. 0.]\n",
            " [0. 0. 0. 1.]]\n"
          ]
        }
      ],
      "source": [
        "print('The Hamiltonian is - ')\n",
        "print(H)\n",
        "l,k = la.eig(H)\n",
        "print('The eigenvalues of the Hamiltonian are - ')\n",
        "print(l)\n",
        "print('The eigenvectors of the Hamiltonian are - ')\n",
        "print(k)"
      ]
    },
    {
      "cell_type": "code",
      "execution_count": null,
      "id": "768ac2cb",
      "metadata": {
        "id": "768ac2cb"
      },
      "outputs": [],
      "source": [
        "from numpy.linalg import qr\n",
        "\n",
        "def qr_haar(N):\n",
        "    \"\"\"Generate a Haar-random matrix using the QR decomposition.\"\"\"\n",
        "    # Step 1\n",
        "    A, B = np.random.normal(size=(N, N)), np.random.normal(size=(N, N))\n",
        "    Z = A + 1j * B\n",
        "\n",
        "    # Step 2\n",
        "    Q, R = qr(Z)\n",
        "\n",
        "    # Step 3\n",
        "    Lambda = np.diag([R[i, i] / np.abs(R[i, i]) for i in range(N)])\n",
        "\n",
        "    # Step 4\n",
        "    return np.dot(Q, Lambda)"
      ]
    },
    {
      "cell_type": "code",
      "execution_count": null,
      "id": "e0155868",
      "metadata": {
        "id": "e0155868"
      },
      "outputs": [],
      "source": [
        "dev = qml.device('default.qubit', wires=2) # its a device 'default.qubit' backend in PennyLane is designed for\n",
        "                                           #pure-state quantum computations.The wires = 2 represents 2 qubits\n",
        "n = 100 #number of samples being considered\n",
        "@qml.qnode(dev)\n",
        "def qr_haar_random_unitary():\n",
        "    qml.QubitUnitary(qr_haar(4), wires=[0, 1])\n",
        "    return qml.state()\n",
        "\n",
        "qr_haar_samples = [qr_haar_random_unitary() for _ in range(n)] # for multiple realisations of haar\n",
        "                                                                         #random unitaries"
      ]
    },
    {
      "cell_type": "code",
      "execution_count": null,
      "id": "cda6cba4",
      "metadata": {
        "id": "cda6cba4"
      },
      "outputs": [],
      "source": []
    },
    {
      "cell_type": "code",
      "execution_count": null,
      "id": "e4c83d83",
      "metadata": {
        "id": "e4c83d83"
      },
      "outputs": [],
      "source": [
        "import scipy.linalg as la\n",
        "import numpy as np\n",
        "omega_values = np.linspace(np.pi, np.pi/2,100)\n",
        "omega_values_l = omega_values.tolist()\n",
        "delta_values = np.linspace(0,1,100)\n",
        "d = 1 - delta_values\n",
        "\n",
        "delta_values_l = delta_values.tolist()\n",
        "a = 1 / (2 * (1 - np.cos(omega_values)))\n",
        "a_l = a.tolist()\n",
        "#C_o = np.sqrt(a)\n",
        "#C_1 = np.sqrt(-2 * delta_values * a * np.cos(omega_values))\n",
        "#C_2 = np.sqrt(-2 * (1 - delta_values) * a * np.cos(omega_values))\n",
        "#C_3 = np.sqrt(a)\n",
        "#C = 2*((C_o)*(C_3) - (C_1)*(C_2))\n",
        "C = 2*(a_l - (la.expm(1j)*2*a*np.cos(omega_values_l)*np.sqrt(delta_values_l*(1-d))))"
      ]
    },
    {
      "cell_type": "code",
      "execution_count": null,
      "id": "0d4a8205",
      "metadata": {
        "id": "0d4a8205"
      },
      "outputs": [],
      "source": [
        "import matplotlib.pyplot as plt\n",
        "T =[]\n",
        "for i in a:\n",
        "    T_Lb =  max((np.pi/2),(np.pi/2)*(1/np.sqrt(2*i)))\n",
        "    T.append(T_Lb)\n",
        "t = np.divide(omega_values_l,T)\n",
        "c = C.tolist()\n"
      ]
    },
    {
      "cell_type": "code",
      "execution_count": null,
      "id": "443c929b",
      "metadata": {
        "id": "443c929b",
        "outputId": "b855c3cf-21f0-4cfb-ef73-4f367016b17a"
      },
      "outputs": [
        {
          "data": {
            "image/png": "[encoded data removed]",
            "text/plain": [
              "<Figure size 640x480 with 1 Axes>"
            ]
          },
          "metadata": {},
          "output_type": "display_data"
        }
      ],
      "source": [
        "plt.xlabel('C')\n",
        "plt.ylabel(r'$\\mathcal{T}/T_{L.Bound}$')\n",
        "plt.scatter(c[0], t)\n",
        "plt.show()\n",
        "#plt.ylim(1,1.5)"
      ]
    },
    {
      "cell_type": "code",
      "execution_count": null,
      "id": "cd439af4",
      "metadata": {
        "id": "cd439af4"
      },
      "outputs": [],
      "source": []
    },
    {
      "cell_type": "code",
      "execution_count": null,
      "id": "ae0dda6c",
      "metadata": {
        "id": "ae0dda6c"
      },
      "outputs": [],
      "source": []
    }
  ],
  "metadata": {
    "kernelspec": {
      "display_name": "Python 3 (ipykernel)",
      "language": "python",
      "name": "python3"
    },
    "language_info": {
      "codemirror_mode": {
        "name": "ipython",
        "version": 3
      },
      "file_extension": ".py",
      "mimetype": "text/x-python",
      "name": "python",
      "nbconvert_exporter": "python",
      "pygments_lexer": "ipython3",
      "version": "3.11.5"
    },
    "colab": {
      "provenance": []
    }
  },
  "nbformat": 4,
  "nbformat_minor": 5
}